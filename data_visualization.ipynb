{
 "cells": [
  {
   "cell_type": "code",
   "execution_count": 1,
   "metadata": {},
   "outputs": [],
   "source": [
    "# %pip install plotly\n",
    "# %pip install dash \n",
    "# %pip install numpy\n",
    "# %pip install pandas\n",
    "# %pip install mat\n"
   ]
  },
  {
   "cell_type": "code",
   "execution_count": 2,
   "metadata": {},
   "outputs": [],
   "source": [
    "import numpy as np\n",
    "import pandas as pd\n",
    "import dash\n",
    "from dash import dcc, html\n",
    "from dash.dependencies import Input, Output\n",
    "import plotly.graph_objects as go\n",
    "from plotly.subplots import make_subplots"
   ]
  },
  {
   "cell_type": "code",
   "execution_count": 3,
   "metadata": {},
   "outputs": [],
   "source": [
    "# Specify the file path of your CSV file\n",
    "csv_file_path ='df_sd.csv'\n",
    "\n",
    "# Read the CSV file into a DataFrame\n",
    "df_sd = pd.read_csv(csv_file_path)"
   ]
  },
  {
   "cell_type": "code",
   "execution_count": 4,
   "metadata": {},
   "outputs": [],
   "source": [
    "# Specify the file path of your CSV file\n",
    "csv_file_path ='df_sig.csv'\n",
    "\n",
    "# Read the CSV file into a DataFrame\n",
    "df_sig = pd.read_csv(csv_file_path)\n"
   ]
  },
  {
   "cell_type": "code",
   "execution_count": 5,
   "metadata": {},
   "outputs": [],
   "source": [
    "# Specify the file path of your CSV file\n",
    "csv_file_path ='df_mean.csv'\n",
    "\n",
    "# Read the CSV file into a DataFrame\n",
    "df_mean = pd.read_csv(csv_file_path)"
   ]
  },
  {
   "cell_type": "code",
   "execution_count": 11,
   "metadata": {},
   "outputs": [],
   "source": [
    "df=df_sd\n",
    "theta_x_columns = df.filter(like='_theta_x')\n",
    "theta_y_columns = df.filter(like='_theta_y')\n",
    "theta_z_columns = df.filter(like='_theta_z')\n",
    "t_x_columns = df.filter(like='_t_x')\n",
    "t_y_columns = df.filter(like='_t_y')\n",
    "t_z_columns = df.filter(like='_t_z')\n",
    "\n"
   ]
  },
  {
   "cell_type": "code",
   "execution_count": null,
   "metadata": {},
   "outputs": [],
   "source": [
    "\n",
    "# Convert DataFrame back to a nested dictionary\n",
    "df_sd_dic = {}\n",
    "for column in df_sd.columns:\n",
    "    parts = column.split('_')\n",
    "    subject = parts[0]\n",
    "    key = '_'.join([parts[1],parts[2]])\n",
    "    if subject not in df_sd_dic:\n",
    "        df_sd_dic[subject] = {}\n",
    "    \n",
    "    df_sd_dic[subject][key] = (df_sd[column].dropna()).tolist()\n",
    "\n",
    "# Display the resulting nested dictionary\n",
    "#print(df_sd_dic)\n"
   ]
  },
  {
   "cell_type": "code",
   "execution_count": null,
   "metadata": {},
   "outputs": [],
   "source": [
    "\n",
    "# Convert DataFrame back to a nested dictionary\n",
    "df_sig_dic = {}\n",
    "for column in df_sig.columns:\n",
    "    parts = column.split('_')\n",
    "    subject = parts[0]\n",
    "    key = '_'.join([parts[1],parts[2]])\n",
    "    if subject not in df_sig_dic:\n",
    "        df_sig_dic[subject] = {}\n",
    "    \n",
    "    df_sig_dic[subject][key] = (df_sig[column].dropna()).tolist()\n",
    "\n",
    "# Display the resulting nested dictionary\n",
    "#print(df_sig_dic)\n"
   ]
  },
  {
   "cell_type": "code",
   "execution_count": null,
   "metadata": {},
   "outputs": [],
   "source": [
    "\n",
    "# Convert DataFrame back to a nested dictionary\n",
    "df_mean_dic = {}\n",
    "for column in df_mean.columns:\n",
    "    parts = column.split('_')\n",
    "    subject = parts[0]\n",
    "    key = '_'.join([parts[1],parts[2]])\n",
    "    if subject not in df_mean_dic:\n",
    "        df_mean_dic[subject] = {}\n",
    "    \n",
    "    df_mean_dic[subject][key] = (df_mean[column].dropna()).tolist()\n",
    "\n",
    "# Display the resulting nested dictionary\n",
    "#print(df_mean_dic)\n"
   ]
  },
  {
   "cell_type": "code",
   "execution_count": 49,
   "metadata": {},
   "outputs": [
    {
     "data": {
      "text/html": [
       "\n",
       "        <iframe\n",
       "            width=\"100%\"\n",
       "            height=\"650\"\n",
       "            src=\"http://127.0.0.1:8051/\"\n",
       "            frameborder=\"0\"\n",
       "            allowfullscreen\n",
       "            \n",
       "        ></iframe>\n",
       "        "
      ],
      "text/plain": [
       "<IPython.lib.display.IFrame at 0x7f2e841f4700>"
      ]
     },
     "metadata": {},
     "output_type": "display_data"
    }
   ],
   "source": [
    "import dash\n",
    "from dash import dcc, html\n",
    "from dash.dependencies import Input, Output\n",
    "import plotly.graph_objects as go\n",
    "import plotly.subplots as sp\n",
    "import numpy as np\n",
    "from scipy.stats import norm\n",
    "\n",
    "# Example data structure similar to df_sd_dic\n",
    "np.random.seed(42)  # For reproducibility\n",
    "\n",
    "# Initialize Dash app\n",
    "app = dash.Dash(__name__)\n",
    "\n",
    "# Layout of the app\n",
    "app.layout = html.Div([\n",
    "    html.H1(\"Histograms of Keys for Subjects\"),\n",
    "    dcc.Dropdown(\n",
    "        id='subject-dropdown',\n",
    "        options=[{'label': subject, 'value': subject} for subject in df_sd_dic.keys()],\n",
    "        multi=True,  # Allow multiple selection\n",
    "        value=list(df_sd_dic.keys()),  # Default value: All subjects selected\n",
    "        style={'width': '50%'}\n",
    "    ),\n",
    "    dcc.Graph(id='histogram-plot')\n",
    "])\n",
    "\n",
    "# Callback to update the plot based on selected subjects\n",
    "@app.callback(\n",
    "    Output('histogram-plot', 'figure'),\n",
    "    [Input('subject-dropdown', 'value')]\n",
    ")\n",
    "def update_plot(selected_subjects):\n",
    "    # Create subplots with shared x-axis\n",
    "    fig = sp.make_subplots(rows=2, cols=3, subplot_titles=['theta_x', 'theta_y', 'theta_z', 't_x', 't_y', 't_z'], shared_yaxes=True, shared_xaxes='rows',\n",
    "                           row_heights=[0.4, 0.4])\n",
    "\n",
    "    # Loop through the selected subjects and add histograms\n",
    "    for i, key in enumerate(['theta_x', 'theta_y', 'theta_z', 't_x', 't_y', 't_z'], start=1):\n",
    "        for subject in selected_subjects:\n",
    "            # Add histogram for each selected subject\n",
    "            fig.add_trace(go.Histogram(x=df_sd_dic[subject][key], name=f'{subject} - {key}'), row=(i-1)//3 + 1, col=(i-1)%3 + 1, )\n",
    "            # x_curve = np.linspace(min(df_sd_dic[subject][key]), max(df_sd_dic[subject][key]), 100)\n",
    "            # y_curve = norm.pdf(x_curve, loc=np.mean(df_sd_dic[subject][key]), scale=np.std(df_sd_dic[subject][key]))\n",
    "            # fig.add_trace(go.Scatter(x=x_curve, y=y_curve, mode='lines', name=f'Normal Curve - {subject} - {key}'), row=(i-1)//3 + 1, col=(i-1)%3 + 1)\n",
    "\n",
    "    # Update layout for better readability\n",
    "    fig.update_layout(\n",
    "        title_text=f'Histograms of standard deviation for Subjects',\n",
    "        xaxis_title='standard deviation',\n",
    "        height=800,  # Adjust the height of the entire figure\n",
    "    )\n",
    "    fig.update_xaxes(tickformat='e', exponentformat='e', showticksuffix='none', ticksuffix='e+0')\n",
    "\n",
    "\n",
    "    return fig\n",
    "\n",
    "# Run the app\n",
    "if __name__ == '__main__':\n",
    "    app.run_server(debug=True, port=8051)\n",
    "\n",
    "\n",
    "\n"
   ]
  },
  {
   "cell_type": "code",
   "execution_count": 48,
   "metadata": {},
   "outputs": [
    {
     "data": {
      "text/html": [
       "\n",
       "        <iframe\n",
       "            width=\"100%\"\n",
       "            height=\"650\"\n",
       "            src=\"http://127.0.0.1:8052/\"\n",
       "            frameborder=\"0\"\n",
       "            allowfullscreen\n",
       "            \n",
       "        ></iframe>\n",
       "        "
      ],
      "text/plain": [
       "<IPython.lib.display.IFrame at 0x7f2e74eeff10>"
      ]
     },
     "metadata": {},
     "output_type": "display_data"
    }
   ],
   "source": [
    "\n",
    "# Example data structure similar to df_sd_dic\n",
    "np.random.seed(42)  # For reproducibility\n",
    "\n",
    "# Initialize Dash app\n",
    "app = dash.Dash(__name__)\n",
    "\n",
    "# Layout of the app\n",
    "app.layout = html.Div([\n",
    "    html.H1(\"Histograms of Keys for Subjects\"),\n",
    "    dcc.Dropdown(\n",
    "        id='subject-dropdown',\n",
    "        options=[{'label': subject, 'value': subject} for subject in df_mean_dic.keys()],\n",
    "        multi=True,  # Allow multiple selection\n",
    "        value=list(df_mean_dic.keys()),  # Default value: All subjects selected\n",
    "        style={'width': '50%'}\n",
    "    ),\n",
    "    dcc.Graph(id='histogram-plot')\n",
    "])\n",
    "\n",
    "# Callback to update the plot based on selected subjects\n",
    "@app.callback(\n",
    "    Output('histogram-plot', 'figure'),\n",
    "    [Input('subject-dropdown', 'value')]\n",
    ")\n",
    "\n",
    "def update_plot(selected_subjects):\n",
    "    # Create subplots with shared x-axis\n",
    "    fig = sp.make_subplots(rows=2, cols=3, subplot_titles=['theta_x', 'theta_y', 'theta_z', 't_x', 't_y', 't_z'],\n",
    "                           row_heights=[0.4, 0.4], shared_yaxes=True, shared_xaxes='rows')\n",
    "\n",
    "    # Loop through the selected subjects and add histoKeysgrams\n",
    "    for i, key in enumerate(['theta_x', 'theta_y', 'theta_z', 't_x', 't_y', 't_z'], start=1):\n",
    "        for subject in selected_subjects:\n",
    "            # Add histogram for each selected subject\n",
    "            fig.add_trace(go.Histogram(x=df_mean_dic[subject][key], name=f'{subject} - {key}'), row=(i-1)//3 + 1, col=(i-1)%3 + 1 )\n",
    "            # x_curve = np.linspace(min(df_sd_dic[subject][key]), max(df_sd_dic[subject][key]), 100)\n",
    "            # y_curve = norm.pdf(x_curve, loc=np.mean(df_sd_dic[subject][key]), scale=np.std(df_sd_dic[subject][key]))\n",
    "            # fig.add_trace(go.Scatter(x=x_curve, y=y_curve, mode='lines', name=f'Normal Curve - {subject} - {key}'), row=(i-1)//3 + 1, col=(i-1)%3 + 1)\n",
    "\n",
    "    # Update layout for better readability\n",
    "    fig.update_layout(\n",
    "        title_text=f'Histograms of mean for Subjects',\n",
    "        xaxis_title='mean',\n",
    "        height=800,  # Adjust the height of the entire figure\n",
    "    )\n",
    "    fig.update_xaxes(tickformat='e', exponentformat='e', showticksuffix='none', ticksuffix='e+0')\n",
    "\n",
    "\n",
    "    return fig\n",
    "\n",
    "# Run the app\n",
    "if __name__ == '__main__':\n",
    "    app.run_server(debug=True, port=8052)\n",
    "\n"
   ]
  },
  {
   "cell_type": "code",
   "execution_count": 47,
   "metadata": {},
   "outputs": [
    {
     "data": {
      "text/html": [
       "\n",
       "        <iframe\n",
       "            width=\"100%\"\n",
       "            height=\"650\"\n",
       "            src=\"http://127.0.0.1:8053/\"\n",
       "            frameborder=\"0\"\n",
       "            allowfullscreen\n",
       "            \n",
       "        ></iframe>\n",
       "        "
      ],
      "text/plain": [
       "<IPython.lib.display.IFrame at 0x7f2e7d1c8520>"
      ]
     },
     "metadata": {},
     "output_type": "display_data"
    }
   ],
   "source": [
    "\n",
    "np.random.seed(42)  # For reproducibility\n",
    "\n",
    "# Initialize Dash app\n",
    "app = dash.Dash(__name__)\n",
    "\n",
    "# Layout of the app\n",
    "app.layout = html.Div([\n",
    "    html.H1(\"Histograms of Keys for Subjects\"),\n",
    "    dcc.Dropdown(\n",
    "        id='subject-dropdown',\n",
    "        options=[{'label': subject, 'value': subject} for subject in df_sd_dic.keys()],\n",
    "        multi=True,  # Allow multiple selection\n",
    "        value=list(df_sig_dic.keys()),  # Default value: All subjects selected\n",
    "        style={'width': '50%'}\n",
    "    ),\n",
    "    dcc.Graph(id='histogram-plot')\n",
    "])\n",
    "\n",
    "# Callback to update the plot based on selected subjects\n",
    "@app.callback(\n",
    "    Output('histogram-plot', 'figure'),\n",
    "    [Input('subject-dropdown', 'value')]\n",
    ")\n",
    "def update_plot(selected_subjects):\n",
    "    # Create subplots with shared x-axis\n",
    "    fig = sp.make_subplots(rows=2, cols=3, subplot_titles=['theta_x', 'theta_y', 'theta_z', 't_x', 't_y', 't_z'],\n",
    "                           row_heights=[0.4, 0.4], shared_xaxes='rows', shared_yaxes=True)\n",
    "\n",
    "    # Loop through the selected subjects and add histograms\n",
    "    for i, key in enumerate(['theta_x', 'theta_y', 'theta_z', 't_x', 't_y', 't_z'], start=1):\n",
    "        for subject in selected_subjects:\n",
    "           # Add histogram for each selected subject, type='log'\n",
    "            fig.add_trace(go.Histogram(x=df_sig_dic[subject][key], name=f'{subject} - {key}'), row=(i-1)//3 + 1, col=(i-1)%3 + 1, )\n",
    "            # x_curve = np.linspace(min(df_sd_dic[subject][key]), max(df_sd_dic[subject][key]), 100)\n",
    "            # y_curve = norm.pdf(x_curve, loc=np.mean(df_sd_dic[subject][key]), scale=np.std(df_sd_dic[subject][key]))\n",
    "            # fig.add_trace(go.Scatter(x=x_curve, y=y_curve, mode='lines',for matfile in glob.glob(f'{base}/*/{subject}/*'): name=f'Normal Curve - {subject} - {key}'), row=(i-1)//3 + 1, col=(i-1)%3 + 1)\n",
    "\n",
    "    # Update layout for better readability\n",
    "    fig.update_layout(\n",
    "        title_text=f'Histograms of significant bits for Subjects',\n",
    "        xaxis_title='significantbits',\n",
    "        height=800,  # Adjust the height of the entire figure\n",
    "    )\n",
    "    #fig.update_xaxes(tickformat='e', exponentformat='e', showticksuffix='none', ticksuffix='e+0')\n",
    "\n",
    "\n",
    "    return fig\n",
    "\n",
    "# Run the app\n",
    "if __name__ == '__main__':\n",
    "    app.run_server(debug=True, port=8053)\n",
    "\n",
    "\n",
    "\n"
   ]
  },
  {
   "cell_type": "code",
   "execution_count": 10,
   "metadata": {},
   "outputs": [
    {
     "data": {
      "application/vnd.plotly.v1+json": {
       "config": {
        "plotlyServerURL": "https://plot.ly"
       },
       "data": [
        {
         "alignmentgroup": "True",
         "bingroup": "x",
         "hovertemplate": "variable=0<br>value=%{x}<br>count=%{y}<extra></extra>",
         "legendgroup": "0",
         "marker": {
          "color": "#636efa",
          "pattern": {
           "shape": ""
          }
         },
         "name": "0",
         "offsetgroup": "0",
         "orientation": "v",
         "showlegend": true,
         "type": "histogram",
         "x": [
          0.0170284171442914,
          0.0125255287808539,
          0.0089806606934011,
          0.0096926591315283,
          0.0124758033893613,
          0.0135200928580391,
          0.0069377718209811,
          0.0077164616949739,
          0.0081823812970308,
          0.0062916965510107,
          0.012972096285489,
          0,
          0.0128311384982003,
          0.012855097354746,
          0.015837094037733,
          0.0101395005305981,
          0.0076049825384414,
          0.0195565201362614,
          0.0080792349910124,
          0.0046207099551908,
          0.0158611495702549,
          0.0132366183763074,
          0.0081976746245505,
          0.0058942221072843,
          0.0076873313601015,
          0.0069079113312201,
          0.0112502803431736,
          0.0120278303962102,
          0.0072185589863905,
          0.0114163920903234,
          0.0161376680583038,
          0.0079935410982867,
          0.0175925548502768,
          0.0223534775495894,
          0.0124637273754683,
          0.0197779348021981,
          0.010174289886277,
          0.0120637754393058,
          0.0144322094777618,
          0.0145753287993787,
          0.013525353682991,
          0.0054525255249287,
          0.0089630923731712,
          0.0160149194115986,
          0.0106385828760225,
          0.0144215054169112,
          0.0112394372141135,
          0.0059737800603972,
          0.0041612185667181,
          0.0144671752322283,
          0.0149572169620554,
          0.0060410843472012,
          0.0281508615003164,
          0.0091211433937856,
          0.0065202738201704,
          0.0062502792009637,
          0.0333130117671759,
          0.011004320028516,
          0.0124686290750025,
          0.0187613571033654,
          0.0129268097208862,
          0.0054995823923276,
          0.0104375898635652,
          0.0121064052203781,
          0.0102740776306196,
          0.0042806608321613,
          0.0099501464134956,
          0.0062802924653235,
          0.0140202190125546,
          0.0309132193452898,
          0.0141252014923681,
          0.0203921210767786,
          0.0087356086502315,
          0.0108803377135087,
          0.0106026655936137,
          0.014595825956759,
          0.0067837728359667,
          0.0116530945314967,
          0.0167491228155387,
          0.0193324856573075,
          0.0108506731685181,
          0.0135011321984491,
          0.0094385286035483,
          0.009485614498281,
          0.0139459127044449,
          0.0163407120729177,
          0.0141777478761614,
          0.0074824484522113,
          0.0085654437765944,
          0.004817701854619,
          0.0129667746833975,
          0.007136087362834,
          0.0109306885400691,
          0.0116172745035141,
          0.0131298929850932,
          0.0189044184951561,
          0.0161304367978675,
          0.0169938522016051,
          0.0094130390103302,
          0.0080211150995357,
          0.0193709047235796,
          0.0199350204988607,
          0.0111357572553464,
          0.0130889856917944,
          0.006173689192857,
          0.0143363827990187,
          0.012675412112038,
          0.0110064258158586,
          0.0160182841453134,
          0.013623592971019,
          0.0036934912968626,
          0.0157415229507821,
          0.0123426854326763,
          0.0148201817495602,
          0.0101314579646761,
          0.0135213117340737,
          0.0145072205018742,
          0.0082988947842468,
          0.0130861110804547,
          0.0152648139854372,
          0.0159114885274759,
          0.0145683305508901,
          0.0143938223071566,
          0.0095081887470748,
          0.0140909778425771,
          0.0080854021081205,
          0.006858244218457,
          0.0150665917300496,
          0.0109672319005298,
          0.0157716238228661,
          0.0129222682915964,
          0.0113261436049522,
          0.0116570354554663,
          0.0105721939260495,
          0.0085023691498311,
          0.0108189657458557,
          0.0077570215521165,
          0.0109982553257323,
          0.0175519598518228,
          0.01307977529203,
          0.0073036192562318,
          0.0087275260664176,
          0.0070562079051003,
          0.0109889406500353,
          0.0114340417197944,
          0.0098870687182804,
          0.0122789230574183,
          0.0106105039960409,
          0.0126293715001974,
          0.0185078394527832,
          0.0036473692162982,
          0.0145146324669279,
          0.0134216571663114,
          0.0086503983145286,
          0.0147093600081716,
          0.0124806137685612,
          0.0130740275833424,
          0.0146719854379017,
          0.0038518357973828,
          0.0157093054362692,
          0.0113073745334626,
          0.0076801911148095,
          0.0142347846264002,
          0.0089273817012604,
          0.0098024953603661,
          0.0071232187169846,
          0.0296041810087696,
          0.0076872182771142,
          0.004798587176451,
          0.0090909524523011,
          0.0202535890846536,
          0.0101784910571262,
          0.0201670113442721,
          0.0113389005569323,
          0.0090934897503653,
          0.0111468608679753,
          0.0118006206620668,
          0.0070024267764825,
          0.0106972036014091,
          0.0167609832471129
         ],
         "xaxis": "x",
         "yaxis": "y"
        }
       ],
       "layout": {
        "barmode": "relative",
        "legend": {
         "title": {
          "text": "variable"
         },
         "tracegroupgap": 0
        },
        "margin": {
         "t": 60
        },
        "template": {
         "data": {
          "bar": [
           {
            "error_x": {
             "color": "#2a3f5f"
            },
            "error_y": {
             "color": "#2a3f5f"
            },
            "marker": {
             "line": {
              "color": "#E5ECF6",
              "width": 0.5
             },
             "pattern": {
              "fillmode": "overlay",
              "size": 10,
              "solidity": 0.2
             }
            },
            "type": "bar"
           }
          ],
          "barpolar": [
           {
            "marker": {
             "line": {
              "color": "#E5ECF6",
              "width": 0.5
             },
             "pattern": {
              "fillmode": "overlay",
              "size": 10,
              "solidity": 0.2
             }
            },
            "type": "barpolar"
           }
          ],
          "carpet": [
           {
            "aaxis": {
             "endlinecolor": "#2a3f5f",
             "gridcolor": "white",
             "linecolor": "white",
             "minorgridcolor": "white",
             "startlinecolor": "#2a3f5f"
            },
            "baxis": {
             "endlinecolor": "#2a3f5f",
             "gridcolor": "white",
             "linecolor": "white",
             "minorgridcolor": "white",
             "startlinecolor": "#2a3f5f"
            },
            "type": "carpet"
           }
          ],
          "choropleth": [
           {
            "colorbar": {
             "outlinewidth": 0,
             "ticks": ""
            },
            "type": "choropleth"
           }
          ],
          "contour": [
           {
            "colorbar": {
             "outlinewidth": 0,
             "ticks": ""
            },
            "colorscale": [
             [
              0,
              "#0d0887"
             ],
             [
              0.1111111111111111,
              "#46039f"
             ],
             [
              0.2222222222222222,
              "#7201a8"
             ],
             [
              0.3333333333333333,
              "#9c179e"
             ],
             [
              0.4444444444444444,
              "#bd3786"
             ],
             [
              0.5555555555555556,
              "#d8576b"
             ],
             [
              0.6666666666666666,
              "#ed7953"
             ],
             [
              0.7777777777777778,
              "#fb9f3a"
             ],
             [
              0.8888888888888888,
              "#fdca26"
             ],
             [
              1,
              "#f0f921"
             ]
            ],
            "type": "contour"
           }
          ],
          "contourcarpet": [
           {
            "colorbar": {
             "outlinewidth": 0,
             "ticks": ""
            },
            "type": "contourcarpet"
           }
          ],
          "heatmap": [
           {
            "colorbar": {
             "outlinewidth": 0,
             "ticks": ""
            },
            "colorscale": [
             [
              0,
              "#0d0887"
             ],
             [
              0.1111111111111111,
              "#46039f"
             ],
             [
              0.2222222222222222,
              "#7201a8"
             ],
             [
              0.3333333333333333,
              "#9c179e"
             ],
             [
              0.4444444444444444,
              "#bd3786"
             ],
             [
              0.5555555555555556,
              "#d8576b"
             ],
             [
              0.6666666666666666,
              "#ed7953"
             ],
             [
              0.7777777777777778,
              "#fb9f3a"
             ],
             [
              0.8888888888888888,
              "#fdca26"
             ],
             [
              1,
              "#f0f921"
             ]
            ],
            "type": "heatmap"
           }
          ],
          "heatmapgl": [
           {
            "colorbar": {
             "outlinewidth": 0,
             "ticks": ""
            },
            "colorscale": [
             [
              0,
              "#0d0887"
             ],
             [
              0.1111111111111111,
              "#46039f"
             ],
             [
              0.2222222222222222,
              "#7201a8"
             ],
             [
              0.3333333333333333,
              "#9c179e"
             ],
             [
              0.4444444444444444,
              "#bd3786"
             ],
             [
              0.5555555555555556,
              "#d8576b"
             ],
             [
              0.6666666666666666,
              "#ed7953"
             ],
             [
              0.7777777777777778,
              "#fb9f3a"
             ],
             [
              0.8888888888888888,
              "#fdca26"
             ],
             [
              1,
              "#f0f921"
             ]
            ],
            "type": "heatmapgl"
           }
          ],
          "histogram": [
           {
            "marker": {
             "pattern": {
              "fillmode": "overlay",
              "size": 10,
              "solidity": 0.2
             }
            },
            "type": "histogram"
           }
          ],
          "histogram2d": [
           {
            "colorbar": {
             "outlinewidth": 0,
             "ticks": ""
            },
            "colorscale": [
             [
              0,
              "#0d0887"
             ],
             [
              0.1111111111111111,
              "#46039f"
             ],
             [
              0.2222222222222222,
              "#7201a8"
             ],
             [
              0.3333333333333333,
              "#9c179e"
             ],
             [
              0.4444444444444444,
              "#bd3786"
             ],
             [
              0.5555555555555556,
              "#d8576b"
             ],
             [
              0.6666666666666666,
              "#ed7953"
             ],
             [
              0.7777777777777778,
              "#fb9f3a"
             ],
             [
              0.8888888888888888,
              "#fdca26"
             ],
             [
              1,
              "#f0f921"
             ]
            ],
            "type": "histogram2d"
           }
          ],
          "histogram2dcontour": [
           {
            "colorbar": {
             "outlinewidth": 0,
             "ticks": ""
            },
            "colorscale": [
             [
              0,
              "#0d0887"
             ],
             [
              0.1111111111111111,
              "#46039f"
             ],
             [
              0.2222222222222222,
              "#7201a8"
             ],
             [
              0.3333333333333333,
              "#9c179e"
             ],
             [
              0.4444444444444444,
              "#bd3786"
             ],
             [
              0.5555555555555556,
              "#d8576b"
             ],
             [
              0.6666666666666666,
              "#ed7953"
             ],
             [
              0.7777777777777778,
              "#fb9f3a"
             ],
             [
              0.8888888888888888,
              "#fdca26"
             ],
             [
              1,
              "#f0f921"
             ]
            ],
            "type": "histogram2dcontour"
           }
          ],
          "mesh3d": [
           {
            "colorbar": {
             "outlinewidth": 0,
             "ticks": ""
            },
            "type": "mesh3d"
           }
          ],
          "parcoords": [
           {
            "line": {
             "colorbar": {
              "outlinewidth": 0,
              "ticks": ""
             }
            },
            "type": "parcoords"
           }
          ],
          "pie": [
           {
            "automargin": true,
            "type": "pie"
           }
          ],
          "scatter": [
           {
            "fillpattern": {
             "fillmode": "overlay",
             "size": 10,
             "solidity": 0.2
            },
            "type": "scatter"
           }
          ],
          "scatter3d": [
           {
            "line": {
             "colorbar": {
              "outlinewidth": 0,
              "ticks": ""
             }
            },
            "marker": {
             "colorbar": {
              "outlinewidth": 0,
              "ticks": ""
             }
            },
            "type": "scatter3d"
           }
          ],
          "scattercarpet": [
           {
            "marker": {
             "colorbar": {
              "outlinewidth": 0,
              "ticks": ""
             }
            },
            "type": "scattercarpet"
           }
          ],
          "scattergeo": [
           {
            "marker": {
             "colorbar": {
              "outlinewidth": 0,
              "ticks": ""
             }
            },
            "type": "scattergeo"
           }
          ],
          "scattergl": [
           {
            "marker": {
             "colorbar": {
              "outlinewidth": 0,
              "ticks": ""
             }
            },
            "type": "scattergl"
           }
          ],
          "scattermapbox": [
           {
            "marker": {
             "colorbar": {
              "outlinewidth": 0,
              "ticks": ""
             }
            },
            "type": "scattermapbox"
           }
          ],
          "scatterpolar": [
           {
            "marker": {
             "colorbar": {
              "outlinewidth": 0,
              "ticks": ""
             }
            },
            "type": "scatterpolar"
           }
          ],
          "scatterpolargl": [
           {
            "marker": {
             "colorbar": {
              "outlinewidth": 0,
              "ticks": ""
             }
            },
            "type": "scatterpolargl"
           }
          ],
          "scatterternary": [
           {
            "marker": {
             "colorbar": {
              "outlinewidth": 0,
              "ticks": ""
             }
            },
            "type": "scatterternary"
           }
          ],
          "surface": [
           {
            "colorbar": {
             "outlinewidth": 0,
             "ticks": ""
            },
            "colorscale": [
             [
              0,
              "#0d0887"
             ],
             [
              0.1111111111111111,
              "#46039f"
             ],
             [
              0.2222222222222222,
              "#7201a8"
             ],
             [
              0.3333333333333333,
              "#9c179e"
             ],
             [
              0.4444444444444444,
              "#bd3786"
             ],
             [
              0.5555555555555556,
              "#d8576b"
             ],
             [
              0.6666666666666666,
              "#ed7953"
             ],
             [
              0.7777777777777778,
              "#fb9f3a"
             ],
             [
              0.8888888888888888,
              "#fdca26"
             ],
             [
              1,
              "#f0f921"
             ]
            ],
            "type": "surface"
           }
          ],
          "table": [
           {
            "cells": {
             "fill": {
              "color": "#EBF0F8"
             },
             "line": {
              "color": "white"
             }
            },
            "header": {
             "fill": {
              "color": "#C8D4E3"
             },
             "line": {
              "color": "white"
             }
            },
            "type": "table"
           }
          ]
         },
         "layout": {
          "annotationdefaults": {
           "arrowcolor": "#2a3f5f",
           "arrowhead": 0,
           "arrowwidth": 1
          },
          "autotypenumbers": "strict",
          "coloraxis": {
           "colorbar": {
            "outlinewidth": 0,
            "ticks": ""
           }
          },
          "colorscale": {
           "diverging": [
            [
             0,
             "#8e0152"
            ],
            [
             0.1,
             "#c51b7d"
            ],
            [
             0.2,
             "#de77ae"
            ],
            [
             0.3,
             "#f1b6da"
            ],
            [
             0.4,
             "#fde0ef"
            ],
            [
             0.5,
             "#f7f7f7"
            ],
            [
             0.6,
             "#e6f5d0"
            ],
            [
             0.7,
             "#b8e186"
            ],
            [
             0.8,
             "#7fbc41"
            ],
            [
             0.9,
             "#4d9221"
            ],
            [
             1,
             "#276419"
            ]
           ],
           "sequential": [
            [
             0,
             "#0d0887"
            ],
            [
             0.1111111111111111,
             "#46039f"
            ],
            [
             0.2222222222222222,
             "#7201a8"
            ],
            [
             0.3333333333333333,
             "#9c179e"
            ],
            [
             0.4444444444444444,
             "#bd3786"
            ],
            [
             0.5555555555555556,
             "#d8576b"
            ],
            [
             0.6666666666666666,
             "#ed7953"
            ],
            [
             0.7777777777777778,
             "#fb9f3a"
            ],
            [
             0.8888888888888888,
             "#fdca26"
            ],
            [
             1,
             "#f0f921"
            ]
           ],
           "sequentialminus": [
            [
             0,
             "#0d0887"
            ],
            [
             0.1111111111111111,
             "#46039f"
            ],
            [
             0.2222222222222222,
             "#7201a8"
            ],
            [
             0.3333333333333333,
             "#9c179e"
            ],
            [
             0.4444444444444444,
             "#bd3786"
            ],
            [
             0.5555555555555556,
             "#d8576b"
            ],
            [
             0.6666666666666666,
             "#ed7953"
            ],
            [
             0.7777777777777778,
             "#fb9f3a"
            ],
            [
             0.8888888888888888,
             "#fdca26"
            ],
            [
             1,
             "#f0f921"
            ]
           ]
          },
          "colorway": [
           "#636efa",
           "#EF553B",
           "#00cc96",
           "#ab63fa",
           "#FFA15A",
           "#19d3f3",
           "#FF6692",
           "#B6E880",
           "#FF97FF",
           "#FECB52"
          ],
          "font": {
           "color": "#2a3f5f"
          },
          "geo": {
           "bgcolor": "white",
           "lakecolor": "white",
           "landcolor": "#E5ECF6",
           "showlakes": true,
           "showland": true,
           "subunitcolor": "white"
          },
          "hoverlabel": {
           "align": "left"
          },
          "hovermode": "closest",
          "mapbox": {
           "style": "light"
          },
          "paper_bgcolor": "white",
          "plot_bgcolor": "#E5ECF6",
          "polar": {
           "angularaxis": {
            "gridcolor": "white",
            "linecolor": "white",
            "ticks": ""
           },
           "bgcolor": "#E5ECF6",
           "radialaxis": {
            "gridcolor": "white",
            "linecolor": "white",
            "ticks": ""
           }
          },
          "scene": {
           "xaxis": {
            "backgroundcolor": "#E5ECF6",
            "gridcolor": "white",
            "gridwidth": 2,
            "linecolor": "white",
            "showbackground": true,
            "ticks": "",
            "zerolinecolor": "white"
           },
           "yaxis": {
            "backgroundcolor": "#E5ECF6",
            "gridcolor": "white",
            "gridwidth": 2,
            "linecolor": "white",
            "showbackground": true,
            "ticks": "",
            "zerolinecolor": "white"
           },
           "zaxis": {
            "backgroundcolor": "#E5ECF6",
            "gridcolor": "white",
            "gridwidth": 2,
            "linecolor": "white",
            "showbackground": true,
            "ticks": "",
            "zerolinecolor": "white"
           }
          },
          "shapedefaults": {
           "line": {
            "color": "#2a3f5f"
           }
          },
          "ternary": {
           "aaxis": {
            "gridcolor": "white",
            "linecolor": "white",
            "ticks": ""
           },
           "baxis": {
            "gridcolor": "white",
            "linecolor": "white",
            "ticks": ""
           },
           "bgcolor": "#E5ECF6",
           "caxis": {
            "gridcolor": "white",
            "linecolor": "white",
            "ticks": ""
           }
          },
          "title": {
           "x": 0.05
          },
          "xaxis": {
           "automargin": true,
           "gridcolor": "white",
           "linecolor": "white",
           "ticks": "",
           "title": {
            "standoff": 15
           },
           "zerolinecolor": "white",
           "zerolinewidth": 2
          },
          "yaxis": {
           "automargin": true,
           "gridcolor": "white",
           "linecolor": "white",
           "ticks": "",
           "title": {
            "standoff": 15
           },
           "zerolinecolor": "white",
           "zerolinewidth": 2
          }
         }
        },
        "title": {
         "text": "Distribution of theta_x for Subjects"
        },
        "xaxis": {
         "anchor": "y",
         "domain": [
          0,
          1
         ],
         "title": {
          "text": "standard deviation"
         }
        },
        "yaxis": {
         "anchor": "x",
         "domain": [
          0,
          1
         ],
         "title": {
          "text": "theta_x"
         }
        }
       }
      }
     },
     "metadata": {},
     "output_type": "display_data"
    }
   ],
   "source": [
    "#plotting standard deviation of 6 rigid parameters from dataframe removing NaN values\n",
    "import plotly.figure_factory as ff\n",
    "import plotly.express as px\n",
    "np.random.seed(1)\n",
    "\n",
    "# Create the distribution plot\n",
    "#fig = ff.create_distplot(df_transposed.values, group_labels, show_hist=False, show_rug=False,histnorm='probability')\n",
    "fig = px.histogram(df_sd_dic['sub-0025000']['t_x'] )\n",
    "\n",
    "# Update layout for better readability\n",
    "fig.update_layout(\n",
    "    title_text='Distribution of theta_x for Subjects',\n",
    "    xaxis_title='standard deviation',\n",
    "    yaxis_title='theta_x',\n",
    ")\n",
    "\n",
    "# Show the plot\n",
    "fig.show()"
   ]
  },
  {
   "cell_type": "code",
   "execution_count": null,
   "metadata": {},
   "outputs": [],
   "source": []
  },
  {
   "cell_type": "code",
   "execution_count": null,
   "metadata": {},
   "outputs": [],
   "source": []
  }
 ],
 "metadata": {
  "kernelspec": {
   "display_name": "repliproj",
   "language": "python",
   "name": "repliproj"
  },
  "language_info": {
   "codemirror_mode": {
    "name": "ipython",
    "version": 3
   },
   "file_extension": ".py",
   "mimetype": "text/x-python",
   "name": "python",
   "nbconvert_exporter": "python",
   "pygments_lexer": "ipython3",
   "version": "3.10.12"
  }
 },
 "nbformat": 4,
 "nbformat_minor": 2
}
